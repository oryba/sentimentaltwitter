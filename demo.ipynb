{
 "cells": [
  {
   "cell_type": "markdown",
   "metadata": {
    "slideshow": {
     "slide_type": "slide"
    }
   },
   "source": [
    "# Зачем это нужно\n",
    "\n",
    "Ситуация: Horns and Hooves Inc. выпустила новый продукт - SmartSpoon. После запуска\n",
    "на кикстартере оказалось, что людям понравилась концепция и она активно обсуждается\n",
    "в соцсетях.\n",
    " - упоминаний много\n",
    " - общий тренд непонятен\n",
    " - полноценный анализ вручную стоит дорого"
   ]
  },
  {
   "cell_type": "markdown",
   "metadata": {
    "slideshow": {
     "slide_type": "subslide"
    }
   },
   "source": [
    "# Что делать\n",
    "\n",
    "Текст можно проанализировать автоматически и определить эмоции, которые выражают\n",
    "люди.\n",
    " - оценить, насколько хорошо приняли продукт\n",
    " - ответить на самые радикальные отзывы\n",
    " - определить основные жалобы"
   ]
  },
  {
   "cell_type": "markdown",
   "metadata": {
    "pycharm": {
     "name": "#%% md\n"
    },
    "slideshow": {
     "slide_type": "subslide"
    }
   },
   "source": [
    "# Как сделать\n",
    " - создать или взять готовую модель распознавания\n",
    " - достать и проанализировать отзывы"
   ]
  },
  {
   "cell_type": "markdown",
   "metadata": {
    "pycharm": {
     "name": "#%% md\n"
    },
    "slideshow": {
     "slide_type": "subslide"
    }
   },
   "source": [
    "# Сложнее\n",
    "\n",
    "![](static/CloudML.png)"
   ]
  },
  {
   "cell_type": "markdown",
   "metadata": {
    "slideshow": {
     "slide_type": "subslide"
    }
   },
   "source": [
    "# Проще\n",
    "\n",
    "![](static/sentiment1.png)"
   ]
  },
  {
   "cell_type": "markdown",
   "metadata": {
    "slideshow": {
     "slide_type": "subslide"
    }
   },
   "source": [
    "![](static/sentiment2.png)"
   ]
  },
  {
   "cell_type": "markdown",
   "metadata": {
    "slideshow": {
     "slide_type": "subslide"
    }
   },
   "source": [
    "# Песочница\n",
    "\n",
    "[Тут](https://cloud.google.com/natural-language) можно поиграться с распознаванием\n",
    "А [здесь](https://cloud.google.com/natural-language/docs/quickstarts) быстрый старт разработки с Natural Language API\n"
   ]
  },
  {
   "cell_type": "markdown",
   "metadata": {
    "pycharm": {
     "name": "#%% md\n"
    },
    "slideshow": {
     "slide_type": "slide"
    }
   },
   "source": [
    "**Анализ тональности текста** позволяет определить его эмоциональный окрас\n",
    "и оценить мнение автора об упомянутых сущностях.\n",
    "\n",
    "Основная цель - нахождение мнений в тексте и выявление их свойств.\n",
    "\n",
    "Простой набор оценок:\n",
    " - позитивная\n",
    " - негативная\n",
    " - нейтральная"
   ]
  },
  {
   "cell_type": "markdown",
   "metadata": {
    "slideshow": {
     "slide_type": "subslide"
    }
   },
   "source": [
    "Напишем простую функцию для анализа тональности с помощью Google Natural Language API.\n",
    "\n",
    "Google предоставляет оценку эмоциональности парой из двух чисел:\n",
    " - score - соответствует эмоциональному уклону текста от -1.0 (негативный) до 1.0 (позитивный)\n",
    " - magnitude - оценивает общую эмоциональность текста от 0.0 (безэмоциональный) до бесконечности"
   ]
  },
  {
   "cell_type": "markdown",
   "metadata": {
    "pycharm": {
     "name": "#%% md\n"
    },
    "slideshow": {
     "slide_type": "subslide"
    }
   },
   "source": [
    "|Окрас|Значения|\n",
    "|---|---|\n",
    "|Позитивный|\"score\": 0.8, \"magnitude\": 3.0|\n",
    "|Негативный|\"score\": -0.6, \"magnitude\": 4.0|\n",
    "|Нейтральный|\"score\": 0.1, \"magnitude\": 0.0|\n",
    "|Смешанный|\"score\": 0.0, \"magnitude\": 4.0|"
   ]
  },
  {
   "cell_type": "markdown",
   "metadata": {
    "slideshow": {
     "slide_type": "subslide"
    }
   },
   "source": [
    "Пример ответа API:\n",
    "\n",
    "```json\n",
    "{\n",
    "  \"documentSentiment\": {\n",
    "    \"score\": 0.2,\n",
    "    \"magnitude\": 3.6\n",
    "  },\n",
    "  \"language\": \"en\",\n",
    "   \"sentences\": [\n",
    "    {\n",
    "      \"text\": {\n",
    "        \"content\": \"Four score and seven years ago our fathers brought forth on this continent a new nation, conceived in liberty and dedicated to the proposition that all men are created equal.\",\n",
    "        \"beginOffset\": 0\n",
    "      },\n",
    "      \"sentiment\": {\n",
    "        \"magnitude\": 0.8,\n",
    "        \"score\": 0.8\n",
    "      }\n",
    "    },\n",
    "   ...\n",
    "}\n",
    "```"
   ]
  },
  {
   "cell_type": "code",
   "execution_count": 23,
   "metadata": {
    "pycharm": {
     "name": "#%%\n"
    },
    "slideshow": {
     "slide_type": "subslide"
    }
   },
   "outputs": [],
   "source": [
    "class Emotions:  # Наш класс для оценки фрагмента текста исходя из полученных score и magnitude\n",
    "    POSITIVE = \"😀\"\n",
    "    NEGATIVE = \"😔\"\n",
    "    NEUTRAL = \"😶\"\n",
    "    MIXED = \"🥴\"\n",
    "\n",
    "    @staticmethod\n",
    "    def detect(score, magnitude):  # Статический метод, возвращающий оценку\n",
    "        if magnitude < 0.25:  # Не особо эмоциональный текст\n",
    "            return Emotions.NEUTRAL\n",
    "\n",
    "        if score > 0.3:\n",
    "            return Emotions.POSITIVE\n",
    "        elif score < -0.3:\n",
    "            return Emotions.NEGATIVE\n",
    "        return Emotions.MIXED"
   ]
  },
  {
   "cell_type": "code",
   "execution_count": 24,
   "metadata": {
    "slideshow": {
     "slide_type": "subslide"
    }
   },
   "outputs": [],
   "source": [
    "import os\n",
    "\n",
    "from google.cloud import language_v1\n",
    "\n",
    "# Указание пути к ключам от гугла, см. ссылку в разделе Песочница\n",
    "os.environ['GOOGLE_APPLICATION_CREDENTIALS'] = '/Users/oleh_rybalchenko/.ssh/GCP_NLP.json'\n",
    "\n",
    "client = language_v1.LanguageServiceClient()\n",
    "\n",
    "def analyze_sentiment(text: str, silent: bool=False) -> dict:\n",
    "    \"\"\"\n",
    "    Функция для анализа текста\n",
    "    :param text: собственно, текст\n",
    "    :param silent: True для отключения печати в stdout\n",
    "    :return: результаты анализа\n",
    "    \"\"\"\n",
    "\n",
    "    # подготовим документ\n",
    "    document = language_v1.Document(content=text, type_=language_v1.Document.Type.PLAIN_TEXT)\n",
    "\n",
    "    # и проанализируем его\n",
    "    sentiment = client.analyze_sentiment(request={'document': document})\n",
    "    results = {\"sentences\": []}\n",
    "\n",
    "    # обработаем каждое предложение\n",
    "    for sentence in sentiment.sentences:\n",
    "        val = Emotions.detect(sentence.sentiment.score, sentence.sentiment.magnitude)\n",
    "        message = f\"{sentence.text.content} - {val} \" \\\n",
    "            f\"(score={sentence.sentiment.score}, magnitude={sentence.sentiment.magnitude})\"\n",
    "        not silent and print(message)\n",
    "        results['sentences'].append(message)\n",
    "\n",
    "    # и общую оценку\n",
    "    total_val = Emotions.detect(sentiment.document_sentiment.score, sentiment.document_sentiment.magnitude)\n",
    "    message = f\"Overall attitude: {total_val}\" \\\n",
    "        f\"(score={sentiment.document_sentiment.score}, magnitude={sentiment.document_sentiment.magnitude})\"\n",
    "    not silent and print(f\"\\n{message}\\n\\n\")\n",
    "    results['total'] = message\n",
    "\n",
    "    return results"
   ]
  },
  {
   "cell_type": "markdown",
   "metadata": {
    "slideshow": {
     "slide_type": "subslide"
    }
   },
   "source": [
    "Например, негативный эмоциональный окрас:"
   ]
  },
  {
   "cell_type": "code",
   "execution_count": 25,
   "metadata": {
    "pycharm": {
     "name": "#%%\n"
    },
    "slideshow": {
     "slide_type": "fragment"
    }
   },
   "outputs": [
    {
     "name": "stdout",
     "output_type": "stream",
     "text": [
      "Modesty and conscientiousness receive their reward only in novels. - 😔 (score=-0.4000000059604645, magnitude=0.4000000059604645)\n",
      "In life they are exploited and then shoved aside. - 😔 (score=-0.699999988079071, magnitude=0.699999988079071)\n",
      "\n",
      "Overall attitude: 😔(score=-0.6000000238418579, magnitude=1.2000000476837158)\n",
      "\n",
      "\n"
     ]
    }
   ],
   "source": [
    "analyze_sentiment(\n",
    "    \"Modesty and conscientiousness receive their reward only in novels. \"\n",
    "    \"In life they are exploited and then shoved aside.\"\n",
    ")"
   ]
  },
  {
   "cell_type": "markdown",
   "metadata": {
    "slideshow": {
     "slide_type": "subslide"
    }
   },
   "source": [
    "Или что-нибудь повеселее:"
   ]
  },
  {
   "cell_type": "code",
   "execution_count": 2,
   "metadata": {
    "pycharm": {
     "name": "#%%\n"
    },
    "slideshow": {
     "slide_type": "fragment"
    }
   },
   "outputs": [
    {
     "ename": "NameError",
     "evalue": "name 'analyze_sentiment' is not defined",
     "output_type": "error",
     "traceback": [
      "\u001B[0;31m---------------------------------------------------------------------------\u001B[0m",
      "\u001B[0;31mNameError\u001B[0m                                 Traceback (most recent call last)",
      "\u001B[0;32m<ipython-input-2-a43ed2956968>\u001B[0m in \u001B[0;36m<module>\u001B[0;34m\u001B[0m\n\u001B[0;32m----> 1\u001B[0;31m analyze_sentiment(\n\u001B[0m\u001B[1;32m      2\u001B[0m     \u001B[0;34m\"Happiness is when what you think, what you say and what you do are in harmony.\"\u001B[0m\u001B[0;34m\u001B[0m\u001B[0;34m\u001B[0m\u001B[0m\n\u001B[1;32m      3\u001B[0m )\n",
      "\u001B[0;31mNameError\u001B[0m: name 'analyze_sentiment' is not defined"
     ]
    }
   ],
   "source": [
    "analyze_sentiment(\n",
    "    \"Happiness is when what you think, what you say and what you do are in harmony.\"\n",
    ")"
   ]
  },
  {
   "cell_type": "markdown",
   "metadata": {
    "slideshow": {
     "slide_type": "subslide"
    }
   },
   "source": [
    "Расскажем анализатору шутейку:"
   ]
  },
  {
   "cell_type": "code",
   "execution_count": 27,
   "metadata": {
    "pycharm": {
     "name": "#%%\n"
    },
    "slideshow": {
     "slide_type": "fragment"
    }
   },
   "outputs": [
    {
     "name": "stdout",
     "output_type": "stream",
     "text": [
      "Why do front end developers eat lunch alone? - 😔 (score=-0.5, magnitude=0.5)\n",
      "They don't know how to join tables. - 😔 (score=-0.699999988079071, magnitude=0.699999988079071)\n",
      "\n",
      "Overall attitude: 😔(score=-0.6000000238418579, magnitude=1.2999999523162842)\n",
      "\n",
      "\n"
     ]
    }
   ],
   "source": [
    "analyze_sentiment(\n",
    "    \"Why do front end developers eat lunch alone? They don't know how to join tables.\"\n",
    ")"
   ]
  },
  {
   "cell_type": "markdown",
   "metadata": {
    "pycharm": {
     "name": "#%% md\n"
    },
    "slideshow": {
     "slide_type": "subslide"
    }
   },
   "source": [
    "И еще:"
   ]
  },
  {
   "cell_type": "code",
   "execution_count": 28,
   "metadata": {
    "pycharm": {
     "name": "#%%\n"
    },
    "slideshow": {
     "slide_type": "fragment"
    }
   },
   "outputs": [
    {
     "name": "stdout",
     "output_type": "stream",
     "text": [
      "I threw a boomerang a few years ago. - 😶 (score=-0.20000000298023224, magnitude=0.20000000298023224)\n",
      "I now live in constant fear - 😔 (score=-0.5, magnitude=0.5)\n",
      "\n",
      "Overall attitude: 😔(score=-0.30000001192092896, magnitude=0.699999988079071)\n",
      "\n",
      "\n"
     ]
    }
   ],
   "source": [
    "analyze_sentiment(\n",
    "    \"I threw a boomerang a few years ago. I now live in constant fear\"\n",
    ")"
   ]
  },
  {
   "cell_type": "markdown",
   "metadata": {
    "slideshow": {
     "slide_type": "subslide"
    }
   },
   "source": [
    "Никто не говорил, что будет просто:\n"
   ]
  },
  {
   "cell_type": "code",
   "execution_count": 29,
   "metadata": {
    "pycharm": {
     "name": "#%%\n"
    },
    "slideshow": {
     "slide_type": "fragment"
    }
   },
   "outputs": [
    {
     "name": "stdout",
     "output_type": "stream",
     "text": [
      "Five stars because I do hate this awesome brand. - 😀 (score=0.6000000238418579, magnitude=0.6000000238418579)\n",
      "Look at this crap! - 😔 (score=-0.800000011920929, magnitude=0.800000011920929)\n",
      "\n",
      "Overall attitude: 🥴(score=0.0, magnitude=1.5)\n",
      "\n",
      "\n"
     ]
    }
   ],
   "source": [
    "analyze_sentiment(\n",
    "    \"Five stars because I do hate this awesome brand. Look at this crap!\"\n",
    ")"
   ]
  },
  {
   "cell_type": "markdown",
   "metadata": {
    "pycharm": {
     "name": "#%% md\n"
    },
    "slideshow": {
     "slide_type": "slide"
    }
   },
   "source": [
    "А теперь затянем что-нибудь из твиттера"
   ]
  },
  {
   "cell_type": "code",
   "execution_count": 1,
   "metadata": {
    "pycharm": {
     "name": "#%%\n"
    },
    "slideshow": {
     "slide_type": "subslide"
    }
   },
   "outputs": [],
   "source": [
    "from mocks import tweepy\n",
    "\n",
    "auth = tweepy.OAuthHandler(\"MY_CONSUMER_KEY\", \"MY_CONSUMER_SECRET\")\n",
    "auth.set_access_token(\"ACCESS_TOKEN\", \"ACCESS_TOKEN_SECRET\")\n",
    "\n",
    "api = tweepy.API(auth)"
   ]
  },
  {
   "cell_type": "markdown",
   "metadata": {
    "pycharm": {
     "name": "#%% md\n"
    },
    "slideshow": {
     "slide_type": "subslide"
    }
   },
   "source": [
    "Поищем твиты по какому-нибудь запросу и проанализируем их текст:"
   ]
  },
  {
   "cell_type": "code",
   "execution_count": null,
   "metadata": {
    "pycharm": {
     "name": "#%%\n"
    },
    "slideshow": {
     "slide_type": "fragment"
    }
   },
   "outputs": [],
   "source": [
    "tweets = api.search(q=\"nasa\")\n",
    "\n",
    "for status in tweets['statuses']:\n",
    "    analyze_sentiment(status['text'])"
   ]
  },
  {
   "cell_type": "markdown",
   "metadata": {
    "pycharm": {
     "name": "#%% md\n"
    },
    "slideshow": {
     "slide_type": "slide"
    }
   },
   "source": [
    "# Бонус\n",
    "\n",
    "Запакуем это добро в сервис"
   ]
  },
  {
   "cell_type": "code",
   "execution_count": 12,
   "metadata": {
    "pycharm": {
     "name": "#%%\n"
    },
    "slideshow": {
     "slide_type": "subslide"
    }
   },
   "outputs": [
    {
     "ename": "SyntaxError",
     "evalue": "invalid syntax (<ipython-input-12-c4b08dfa46b5>, line 8)",
     "output_type": "error",
     "traceback": [
      "\u001B[0;36m  File \u001B[0;32m\"<ipython-input-12-c4b08dfa46b5>\"\u001B[0;36m, line \u001B[0;32m8\u001B[0m\n\u001B[0;31m    def analyze(q=):\u001B[0m\n\u001B[0m                  ^\u001B[0m\n\u001B[0;31mSyntaxError\u001B[0m\u001B[0;31m:\u001B[0m invalid syntax\n"
     ]
    }
   ],
   "source": [
    "import uvicorn\n",
    "from fastapi import FastAPI\n",
    "\n",
    "app = FastAPI()\n",
    "\n",
    "@app.get(\"/\")\n",
    "def analyze(q: str):\n",
    "    tweets = api.search(q)\n",
    "    res = []\n",
    "    for status in tweets['statuses']:\n",
    "        res.append(\n",
    "            analyze_sentiment(status['text'], silent=True)\n",
    "        )\n",
    "    return res\n",
    "\n",
    "# uvicorn.run(app, port=8888)"
   ]
  },
  {
   "cell_type": "markdown",
   "source": [
    "# Пока на этом все\n",
    "\n",
    "## Спасибо за внимание:)\n",
    "\n",
    "Посмотреть и попробовать эту штуку можно тут:\n",
    "![](static/qr.png)"
   ],
   "metadata": {
    "collapsed": false,
    "pycharm": {
     "name": "#%% md\n"
    }
   }
  },
  {
   "cell_type": "code",
   "execution_count": null,
   "metadata": {
    "slideshow": {
     "slide_type": "fragment"
    }
   },
   "outputs": [],
   "source": []
  }
 ],
 "metadata": {
  "celltoolbar": "Slideshow",
  "kernelspec": {
   "display_name": "Python 3",
   "language": "python",
   "name": "python3"
  },
  "language_info": {
   "codemirror_mode": {
    "name": "ipython",
    "version": 3
   },
   "file_extension": ".py",
   "mimetype": "text/x-python",
   "name": "python",
   "nbconvert_exporter": "python",
   "pygments_lexer": "ipython3",
   "version": "3.8.2"
  }
 },
 "nbformat": 4,
 "nbformat_minor": 1
}